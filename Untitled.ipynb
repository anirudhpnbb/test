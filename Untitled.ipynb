{
 "cells": [
  {
   "cell_type": "code",
   "execution_count": 10,
   "metadata": {},
   "outputs": [],
   "source": [
    "a = [\"a\", \"b\"]\n",
    "b = [\"c\", \"d\"]"
   ]
  },
  {
   "cell_type": "code",
   "execution_count": 11,
   "metadata": {},
   "outputs": [],
   "source": [
    "def file_diff(li1, li2):\n",
    "    return list(list(set(li1) - set(li2)) + list(set(li2) - set(li1)))"
   ]
  },
  {
   "cell_type": "code",
   "execution_count": 12,
   "metadata": {},
   "outputs": [],
   "source": [
    "c = file_diff(a, b)"
   ]
  },
  {
   "cell_type": "code",
   "execution_count": 13,
   "metadata": {},
   "outputs": [
    {
     "data": {
      "text/plain": [
       "['a', 'b', 'd', 'c']"
      ]
     },
     "execution_count": 13,
     "metadata": {},
     "output_type": "execute_result"
    }
   ],
   "source": [
    "c"
   ]
  },
  {
   "cell_type": "code",
   "execution_count": 14,
   "metadata": {},
   "outputs": [
    {
     "ename": "UnsupportedOperation",
     "evalue": "not writable",
     "output_type": "error",
     "traceback": [
      "\u001b[0;31m---------------------------------------------------------------------------\u001b[0m",
      "\u001b[0;31mUnsupportedOperation\u001b[0m                      Traceback (most recent call last)",
      "\u001b[0;32m<ipython-input-14-fb70ea75bd95>\u001b[0m in \u001b[0;36m<module>\u001b[0;34m\u001b[0m\n\u001b[1;32m      1\u001b[0m \u001b[0;32mwith\u001b[0m \u001b[0mopen\u001b[0m\u001b[0;34m(\u001b[0m\u001b[0;34m\"filenames.txt\"\u001b[0m\u001b[0;34m)\u001b[0m \u001b[0;32mas\u001b[0m \u001b[0mf\u001b[0m\u001b[0;34m:\u001b[0m\u001b[0;34m\u001b[0m\u001b[0;34m\u001b[0m\u001b[0m\n\u001b[1;32m      2\u001b[0m     \u001b[0;32mfor\u001b[0m \u001b[0mi\u001b[0m \u001b[0;32min\u001b[0m \u001b[0mc\u001b[0m\u001b[0;34m:\u001b[0m\u001b[0;34m\u001b[0m\u001b[0;34m\u001b[0m\u001b[0m\n\u001b[0;32m----> 3\u001b[0;31m         \u001b[0mf\u001b[0m\u001b[0;34m.\u001b[0m\u001b[0mwrite\u001b[0m\u001b[0;34m(\u001b[0m\u001b[0mi\u001b[0m\u001b[0;34m)\u001b[0m\u001b[0;34m\u001b[0m\u001b[0;34m\u001b[0m\u001b[0m\n\u001b[0m",
      "\u001b[0;31mUnsupportedOperation\u001b[0m: not writable"
     ]
    }
   ],
   "source": [
    "with open(\"filenames.txt\") as f:\n",
    "    for i in c:\n",
    "        f.write(i)"
   ]
  },
  {
   "cell_type": "code",
   "execution_count": 29,
   "metadata": {},
   "outputs": [],
   "source": [
    "f = open(\"filenames.txt\", \"w\")"
   ]
  },
  {
   "cell_type": "code",
   "execution_count": 30,
   "metadata": {},
   "outputs": [],
   "source": [
    "for i in c:\n",
    "    f.write(i)"
   ]
  },
  {
   "cell_type": "code",
   "execution_count": 33,
   "metadata": {},
   "outputs": [],
   "source": [
    "f = open(\"filenames.txt\", \"w\")\n",
    "for i in c:\n",
    "    f.write(i)\n",
    "f.close()"
   ]
  },
  {
   "cell_type": "code",
   "execution_count": 38,
   "metadata": {
    "scrolled": true
   },
   "outputs": [],
   "source": [
    "import os"
   ]
  },
  {
   "cell_type": "code",
   "execution_count": 45,
   "metadata": {},
   "outputs": [],
   "source": [
    "allfiles = []"
   ]
  },
  {
   "cell_type": "code",
   "execution_count": 55,
   "metadata": {},
   "outputs": [],
   "source": [
    "def files_with_path(input_path):\n",
    "    if os.path.isfile(\"filenames.txt\"):\n",
    "        # Giving the path as input that has all the files that need to be extracted.\n",
    "        f = open(\"filenames.txt\", \"r\")\n",
    "        files_txt = f.read()\n",
    "        path = input_path\n",
    "        files = os.listdir(path)  # This will get us the file names as a list.\n",
    "#         final_zip_files =   file_diff(files_txt, files)\n",
    "#         # Adding the path of the file before the file name\n",
    "#         comp_zip_files = [path + os.sep + file for file in final_zip_files]\n",
    "#         zip_allfiles.extend(comp_zip_files)\n",
    "#         zipext(zip_allfiles, 'ocr_input')\n",
    "        final_files = file_diff(files_txt, files)\n",
    "        print(final_files)\n",
    "        comp_files = [path + os.sep + file for file in final_files if\n",
    "                      file[-3::] != 'zip']  # Adding the path of the file before the file name\n",
    "        allfiles.extend(comp_files)\n",
    "        f = open(\"filenames.txt\", \"w\")\n",
    "        for i in final_files:\n",
    "            print(i)\n",
    "            f.write(i + \"\\n\")\n",
    "        f.close()\n",
    "    else:\n",
    "        print(\"Please check that you have a filenames.txt file.\")"
   ]
  },
  {
   "cell_type": "code",
   "execution_count": 48,
   "metadata": {},
   "outputs": [],
   "source": [
    "a = ['144-2014-04_1.jpg', '144-2013-06.docx', '67th AGM.pdf', '144-2014-04_2.jpg', '140-2013-05.docx', '141-2013-05.docx']"
   ]
  },
  {
   "cell_type": "code",
   "execution_count": 51,
   "metadata": {},
   "outputs": [],
   "source": [
    "b = ['148-2014-04_1.jpg', '144-2014-04_1.jpg', '144-2013-06.docx', '146-2014-04_1.jpg', '154-2014-05.pdf', '67th AGM.pdf', '146-2014-04_2.jpg', '144-2014-04_2.jpg', '140-2013-05.docx', '141-2013-05.docx']"
   ]
  },
  {
   "cell_type": "code",
   "execution_count": 52,
   "metadata": {},
   "outputs": [
    {
     "data": {
      "text/plain": [
       "['148-2014-04_1.jpg',\n",
       " '154-2014-05.pdf',\n",
       " '146-2014-04_2.jpg',\n",
       " '146-2014-04_1.jpg']"
      ]
     },
     "execution_count": 52,
     "metadata": {},
     "output_type": "execute_result"
    }
   ],
   "source": [
    "file_diff(a, b)"
   ]
  },
  {
   "cell_type": "code",
   "execution_count": 56,
   "metadata": {},
   "outputs": [
    {
     "name": "stdout",
     "output_type": "stream",
     "text": [
      "['4', '5', 'd', '7', 'b', 'a', 'c', 'A', '3', '6', 'j', '_', '2', 'h', 'x', '\\n', ' ', '0', 'f', 'p', 'g', 'G', '8', 'o', '1', '.', 't', '-', 'M', '148-2014-04_1.jpg', '144-2014-04_1.jpg', '144-2013-06.docx', '146-2014-04_1.jpg', '154-2014-05.pdf', '67th AGM.pdf', '146-2014-04_2.jpg', '144-2014-04_2.jpg', '140-2013-05.docx', '141-2013-05.docx']\n",
      "4\n",
      "5\n",
      "d\n",
      "7\n",
      "b\n",
      "a\n",
      "c\n",
      "A\n",
      "3\n",
      "6\n",
      "j\n",
      "_\n",
      "2\n",
      "h\n",
      "x\n",
      "\n",
      "\n",
      " \n",
      "0\n",
      "f\n",
      "p\n",
      "g\n",
      "G\n",
      "8\n",
      "o\n",
      "1\n",
      ".\n",
      "t\n",
      "-\n",
      "M\n",
      "148-2014-04_1.jpg\n",
      "144-2014-04_1.jpg\n",
      "144-2013-06.docx\n",
      "146-2014-04_1.jpg\n",
      "154-2014-05.pdf\n",
      "67th AGM.pdf\n",
      "146-2014-04_2.jpg\n",
      "144-2014-04_2.jpg\n",
      "140-2013-05.docx\n",
      "141-2013-05.docx\n"
     ]
    }
   ],
   "source": [
    "files_with_path(\"testing\")"
   ]
  },
  {
   "cell_type": "code",
   "execution_count": null,
   "metadata": {},
   "outputs": [],
   "source": []
  },
  {
   "cell_type": "code",
   "execution_count": null,
   "metadata": {},
   "outputs": [],
   "source": []
  },
  {
   "cell_type": "code",
   "execution_count": null,
   "metadata": {},
   "outputs": [],
   "source": []
  },
  {
   "cell_type": "code",
   "execution_count": null,
   "metadata": {},
   "outputs": [],
   "source": []
  },
  {
   "cell_type": "code",
   "execution_count": null,
   "metadata": {},
   "outputs": [],
   "source": []
  },
  {
   "cell_type": "code",
   "execution_count": null,
   "metadata": {},
   "outputs": [],
   "source": []
  },
  {
   "cell_type": "code",
   "execution_count": null,
   "metadata": {},
   "outputs": [],
   "source": []
  },
  {
   "cell_type": "code",
   "execution_count": null,
   "metadata": {},
   "outputs": [],
   "source": []
  },
  {
   "cell_type": "code",
   "execution_count": null,
   "metadata": {},
   "outputs": [],
   "source": []
  },
  {
   "cell_type": "code",
   "execution_count": null,
   "metadata": {},
   "outputs": [],
   "source": [
    "!pip3 install https://github.com/explosion/spacy-models/releases/download/en_core_web_sm-2.2.0/en_core_web_sm-2.2.0.tar.gz"
   ]
  },
  {
   "cell_type": "code",
   "execution_count": null,
   "metadata": {},
   "outputs": [],
   "source": [
    "import en_core_web_sm\n",
    "nlp = en_core_web_sm.load()"
   ]
  },
  {
   "cell_type": "code",
   "execution_count": 1,
   "metadata": {},
   "outputs": [
    {
     "name": "stderr",
     "output_type": "stream",
     "text": [
      "/usr/local/lib/python3.8/dist-packages/spacy/util.py:275: UserWarning: [W031] Model 'en_core_web_sm' (2.2.0) requires spaCy v2.2 and is incompatible with the current spaCy version (2.3.2). This may lead to unexpected results or runtime errors. To resolve this, download a newer compatible model or retrain your custom model with the current spaCy version. For more details and available updates, run: python -m spacy validate\n",
      "  warnings.warn(warn_msg)\n",
      "/usr/local/lib/python3.8/dist-packages/spacy/util.py:275: UserWarning: [W031] Model 'en_training' (0.0.0) requires spaCy v2.2 and is incompatible with the current spaCy version (2.3.2). This may lead to unexpected results or runtime errors. To resolve this, download a newer compatible model or retrain your custom model with the current spaCy version. For more details and available updates, run: python -m spacy validate\n",
      "  warnings.warn(warn_msg)\n"
     ]
    }
   ],
   "source": [
    "from resume_parser import resumeparse"
   ]
  },
  {
   "cell_type": "code",
   "execution_count": 10,
   "metadata": {},
   "outputs": [
    {
     "name": "stderr",
     "output_type": "stream",
     "text": [
      "2020-10-28 14:19:02,466 [MainThread  ] [WARNI]  Failed to see startup log message; retrying...\n",
      "WARNING:tika.tika:Failed to see startup log message; retrying...\n"
     ]
    }
   ],
   "source": [
    "import os\n",
    "\n",
    "results = []\n",
    "path = \"/home/anirudhpnbb/Downloads/resumes\"\n",
    "files = os.listdir(path)\n",
    "files_with_path = [path + os.sep + i for i in files]\n",
    "for i in files_with_path:\n",
    "    output = resumeparse.read_file(i)\n",
    "    results.append(output)"
   ]
  },
  {
   "cell_type": "code",
   "execution_count": 12,
   "metadata": {},
   "outputs": [],
   "source": [
    "import pandas as pd"
   ]
  },
  {
   "cell_type": "code",
   "execution_count": 17,
   "metadata": {
    "scrolled": true
   },
   "outputs": [],
   "source": [
    "a = pd.DataFrame()\n",
    "for i in results:\n",
    "    df = pd.DataFrame([i])\n",
    "    a = pd.concat([a, df])"
   ]
  },
  {
   "cell_type": "code",
   "execution_count": 25,
   "metadata": {},
   "outputs": [],
   "source": [
    "a = a.reset_index()"
   ]
  },
  {
   "cell_type": "code",
   "execution_count": 26,
   "metadata": {},
   "outputs": [],
   "source": [
    "a = a.drop(\"index\", 1)"
   ]
  },
  {
   "cell_type": "code",
   "execution_count": 27,
   "metadata": {},
   "outputs": [
    {
     "data": {
      "text/html": [
       "<div>\n",
       "<style scoped>\n",
       "    .dataframe tbody tr th:only-of-type {\n",
       "        vertical-align: middle;\n",
       "    }\n",
       "\n",
       "    .dataframe tbody tr th {\n",
       "        vertical-align: top;\n",
       "    }\n",
       "\n",
       "    .dataframe thead th {\n",
       "        text-align: right;\n",
       "    }\n",
       "</style>\n",
       "<table border=\"1\" class=\"dataframe\">\n",
       "  <thead>\n",
       "    <tr style=\"text-align: right;\">\n",
       "      <th></th>\n",
       "      <th>email</th>\n",
       "      <th>phone</th>\n",
       "      <th>name</th>\n",
       "      <th>total_exp</th>\n",
       "      <th>university</th>\n",
       "      <th>designition</th>\n",
       "      <th>degree</th>\n",
       "      <th>skills</th>\n",
       "    </tr>\n",
       "  </thead>\n",
       "  <tbody>\n",
       "    <tr>\n",
       "      <th>0</th>\n",
       "      <td>gurucharan3355@gmail.com</td>\n",
       "      <td>+91 9491155478</td>\n",
       "      <td>G. GURUCHARAN</td>\n",
       "      <td>6</td>\n",
       "      <td>[rajiv gandhi university]</td>\n",
       "      <td>[hardware design engineer, design engineer, pr...</td>\n",
       "      <td>[]</td>\n",
       "      <td>[:, Application Software Tools : OrCAD Capture...</td>\n",
       "    </tr>\n",
       "    <tr>\n",
       "      <th>1</th>\n",
       "      <td>midhunhms@gmail.com</td>\n",
       "      <td>+(91) 9606584140</td>\n",
       "      <td>HCL TECHNOLOGIES</td>\n",
       "      <td>0</td>\n",
       "      <td>[]</td>\n",
       "      <td>[hardware engineer, hardware design engineer, ...</td>\n",
       "      <td>[]</td>\n",
       "      <td>[digital, organization, voltage, orcad, coil, ...</td>\n",
       "    </tr>\n",
       "    <tr>\n",
       "      <th>2</th>\n",
       "      <td>himaja.manam19@gmail.com</td>\n",
       "      <td>9908682827</td>\n",
       "      <td>HIMAJA MANAM</td>\n",
       "      <td>4</td>\n",
       "      <td>[]</td>\n",
       "      <td>[hardware design engineer, design engineer, se...</td>\n",
       "      <td>[Bachelor of Technology in Electronics and Com...</td>\n",
       "      <td>[designation, circuit, probes, languages, debu...</td>\n",
       "    </tr>\n",
       "    <tr>\n",
       "      <th>3</th>\n",
       "      <td>prasadshetty721@gmail.com</td>\n",
       "      <td>8150076155</td>\n",
       "      <td>PRASAD GOPAL</td>\n",
       "      <td>0</td>\n",
       "      <td>[]</td>\n",
       "      <td>[charger, team member, testing engineer, test ...</td>\n",
       "      <td>[]</td>\n",
       "      <td>[Testing of boards., Debugging of boards., Int...</td>\n",
       "    </tr>\n",
       "    <tr>\n",
       "      <th>4</th>\n",
       "      <td>ajkumar156@gmail.com</td>\n",
       "      <td>+919842897485</td>\n",
       "      <td>Sri Ramalu</td>\n",
       "      <td>4</td>\n",
       "      <td>[]</td>\n",
       "      <td>[hardware design engineer, design engineer, sn...</td>\n",
       "      <td>[]</td>\n",
       "      <td>[ Working experience in High Voltage Design :...</td>\n",
       "    </tr>\n",
       "    <tr>\n",
       "      <th>5</th>\n",
       "      <td>navendu291@gmail.com</td>\n",
       "      <td>+91 7503677694</td>\n",
       "      <td>Navendu Shekhar</td>\n",
       "      <td>4</td>\n",
       "      <td>[]</td>\n",
       "      <td>[hardware design engineer, design engineer, ba...</td>\n",
       "      <td>[]</td>\n",
       "      <td>[Metering IC selection,  Relay,  AC-DC, Power ...</td>\n",
       "    </tr>\n",
       "    <tr>\n",
       "      <th>6</th>\n",
       "      <td>akshaydabhane1992@gmail.com</td>\n",
       "      <td>+91 96658 22805</td>\n",
       "      <td>AKSHAY DABHANE</td>\n",
       "      <td>0</td>\n",
       "      <td>[amravati university]</td>\n",
       "      <td>[hardware design engineer, design engineer, pr...</td>\n",
       "      <td>[]</td>\n",
       "      <td>[:, Total Experience: [4 years &amp; 10 months], m...</td>\n",
       "    </tr>\n",
       "    <tr>\n",
       "      <th>7</th>\n",
       "      <td>Email:mmm12111995@gmail.com</td>\n",
       "      <td>+91 9405118301</td>\n",
       "      <td>Manali Mhetras</td>\n",
       "      <td>3</td>\n",
       "      <td>[]</td>\n",
       "      <td>[embedded hardware engineer, hardware engineer...</td>\n",
       "      <td>[]</td>\n",
       "      <td>[:, Hands on experience in Capsense design, Go...</td>\n",
       "    </tr>\n",
       "    <tr>\n",
       "      <th>8</th>\n",
       "      <td>vigneshads5@gmail.com</td>\n",
       "      <td>8618116405</td>\n",
       "      <td>Vignesh M</td>\n",
       "      <td>3</td>\n",
       "      <td>[]</td>\n",
       "      <td>[hardware engineer, battery charger, charger, ...</td>\n",
       "      <td>[]</td>\n",
       "      <td>[&amp; Abilities, Excellent communication skills a...</td>\n",
       "    </tr>\n",
       "    <tr>\n",
       "      <th>9</th>\n",
       "      <td>vinodkumar.negali@outlook.com</td>\n",
       "      <td>+91-9964724412</td>\n",
       "      <td>Vinod Negali</td>\n",
       "      <td>7</td>\n",
       "      <td>[manipal university]</td>\n",
       "      <td>[pcb designer, product development, hardware d...</td>\n",
       "      <td>[]</td>\n",
       "      <td>[intel, high speed interfaces, test procedures...</td>\n",
       "    </tr>\n",
       "    <tr>\n",
       "      <th>10</th>\n",
       "      <td>psambit.kumar2@gmail.com</td>\n",
       "      <td>+91- 8983-251-041</td>\n",
       "      <td>KUMAR Cell</td>\n",
       "      <td>1</td>\n",
       "      <td>[]</td>\n",
       "      <td>[hardware design engineer, design engineer, pr...</td>\n",
       "      <td>[]</td>\n",
       "      <td>[Selection of System basic chip as per power a...</td>\n",
       "    </tr>\n",
       "    <tr>\n",
       "      <th>11</th>\n",
       "      <td>thirumalcareer4@gmail.com</td>\n",
       "      <td>8220803189</td>\n",
       "      <td>THIRUMAL K</td>\n",
       "      <td>0</td>\n",
       "      <td>[]</td>\n",
       "      <td>[design engineer, hardware design engineer]</td>\n",
       "      <td>[]</td>\n",
       "      <td>[known : English, Tamil&amp;Telugu, Marital status...</td>\n",
       "    </tr>\n",
       "    <tr>\n",
       "      <th>12</th>\n",
       "      <td>praveenshivagonduvce@gmail.com</td>\n",
       "      <td>+918792121694</td>\n",
       "      <td>+918792121694 Executive</td>\n",
       "      <td>0</td>\n",
       "      <td>[bangalore university]</td>\n",
       "      <td>[design engineer, analysis engineer, expander]</td>\n",
       "      <td>[]</td>\n",
       "      <td>[:: C,  Embedded C., Operating System: Windows...</td>\n",
       "    </tr>\n",
       "    <tr>\n",
       "      <th>13</th>\n",
       "      <td>apd.karthik@gmail.com</td>\n",
       "      <td>8660688798</td>\n",
       "      <td>KARTHIK ANNADURAI</td>\n",
       "      <td>6</td>\n",
       "      <td>[]</td>\n",
       "      <td>[senior hardware design engineer, hardware des...</td>\n",
       "      <td>[]</td>\n",
       "      <td>[5+ Year of Circuit and PCB Design., Analog de...</td>\n",
       "    </tr>\n",
       "    <tr>\n",
       "      <th>14</th>\n",
       "      <td>nibinmundur@gmail.com</td>\n",
       "      <td>+91-8129639910</td>\n",
       "      <td>Nibin Das</td>\n",
       "      <td>4</td>\n",
       "      <td>[university of calicut]</td>\n",
       "      <td>[project lead, senior hardware design engineer...</td>\n",
       "      <td>[]</td>\n",
       "      <td>[intel, suggestions, hindi, customer interacti...</td>\n",
       "    </tr>\n",
       "    <tr>\n",
       "      <th>15</th>\n",
       "      <td>alagu.rasu92@gmail.com</td>\n",
       "      <td>9677703305</td>\n",
       "      <td></td>\n",
       "      <td>3</td>\n",
       "      <td>[anna university]</td>\n",
       "      <td>[hardware test engineer, test engineer, hardwa...</td>\n",
       "      <td>[B.E in Electronics and Communication]</td>\n",
       "      <td>[and Knowledge’s, Programming Skill : Embedded...</td>\n",
       "    </tr>\n",
       "    <tr>\n",
       "      <th>16</th>\n",
       "      <td>chopparamaheshbabu20@gmail.com</td>\n",
       "      <td>+91 7730944438</td>\n",
       "      <td></td>\n",
       "      <td>0</td>\n",
       "      <td>[ege university]</td>\n",
       "      <td>[battery charger, charger, hardware design eng...</td>\n",
       "      <td>[]</td>\n",
       "      <td>[: Feasibility Study,  Trim test,  Primary and...</td>\n",
       "    </tr>\n",
       "    <tr>\n",
       "      <th>17</th>\n",
       "      <td>nsmulge415@gmail.com</td>\n",
       "      <td>+91 7892571353</td>\n",
       "      <td>CURRICULUM VITAE</td>\n",
       "      <td>0</td>\n",
       "      <td>[]</td>\n",
       "      <td>[hardware engineer, electronics engineer, test...</td>\n",
       "      <td>[Bachelor of Engineering (ECE)–BKIT]</td>\n",
       "      <td>[designation, languages, spacecraft, hindi, va...</td>\n",
       "    </tr>\n",
       "  </tbody>\n",
       "</table>\n",
       "</div>"
      ],
      "text/plain": [
       "                             email              phone  \\\n",
       "0         gurucharan3355@gmail.com     +91 9491155478   \n",
       "1              midhunhms@gmail.com   +(91) 9606584140   \n",
       "2         himaja.manam19@gmail.com         9908682827   \n",
       "3        prasadshetty721@gmail.com         8150076155   \n",
       "4             ajkumar156@gmail.com      +919842897485   \n",
       "5             navendu291@gmail.com     +91 7503677694   \n",
       "6      akshaydabhane1992@gmail.com    +91 96658 22805   \n",
       "7      Email:mmm12111995@gmail.com     +91 9405118301   \n",
       "8            vigneshads5@gmail.com         8618116405   \n",
       "9    vinodkumar.negali@outlook.com     +91-9964724412   \n",
       "10        psambit.kumar2@gmail.com  +91- 8983-251-041   \n",
       "11       thirumalcareer4@gmail.com         8220803189   \n",
       "12  praveenshivagonduvce@gmail.com      +918792121694   \n",
       "13           apd.karthik@gmail.com         8660688798   \n",
       "14           nibinmundur@gmail.com     +91-8129639910   \n",
       "15          alagu.rasu92@gmail.com         9677703305   \n",
       "16  chopparamaheshbabu20@gmail.com     +91 7730944438   \n",
       "17            nsmulge415@gmail.com     +91 7892571353   \n",
       "\n",
       "                       name  total_exp                 university  \\\n",
       "0             G. GURUCHARAN          6  [rajiv gandhi university]   \n",
       "1          HCL TECHNOLOGIES          0                         []   \n",
       "2              HIMAJA MANAM          4                         []   \n",
       "3              PRASAD GOPAL          0                         []   \n",
       "4                Sri Ramalu          4                         []   \n",
       "5           Navendu Shekhar          4                         []   \n",
       "6            AKSHAY DABHANE          0      [amravati university]   \n",
       "7            Manali Mhetras          3                         []   \n",
       "8                 Vignesh M          3                         []   \n",
       "9              Vinod Negali          7       [manipal university]   \n",
       "10               KUMAR Cell          1                         []   \n",
       "11               THIRUMAL K          0                         []   \n",
       "12  +918792121694 Executive          0     [bangalore university]   \n",
       "13        KARTHIK ANNADURAI          6                         []   \n",
       "14                Nibin Das          4    [university of calicut]   \n",
       "15                                   3          [anna university]   \n",
       "16                                   0           [ege university]   \n",
       "17         CURRICULUM VITAE          0                         []   \n",
       "\n",
       "                                          designition  \\\n",
       "0   [hardware design engineer, design engineer, pr...   \n",
       "1   [hardware engineer, hardware design engineer, ...   \n",
       "2   [hardware design engineer, design engineer, se...   \n",
       "3   [charger, team member, testing engineer, test ...   \n",
       "4   [hardware design engineer, design engineer, sn...   \n",
       "5   [hardware design engineer, design engineer, ba...   \n",
       "6   [hardware design engineer, design engineer, pr...   \n",
       "7   [embedded hardware engineer, hardware engineer...   \n",
       "8   [hardware engineer, battery charger, charger, ...   \n",
       "9   [pcb designer, product development, hardware d...   \n",
       "10  [hardware design engineer, design engineer, pr...   \n",
       "11        [design engineer, hardware design engineer]   \n",
       "12     [design engineer, analysis engineer, expander]   \n",
       "13  [senior hardware design engineer, hardware des...   \n",
       "14  [project lead, senior hardware design engineer...   \n",
       "15  [hardware test engineer, test engineer, hardwa...   \n",
       "16  [battery charger, charger, hardware design eng...   \n",
       "17  [hardware engineer, electronics engineer, test...   \n",
       "\n",
       "                                               degree  \\\n",
       "0                                                  []   \n",
       "1                                                  []   \n",
       "2   [Bachelor of Technology in Electronics and Com...   \n",
       "3                                                  []   \n",
       "4                                                  []   \n",
       "5                                                  []   \n",
       "6                                                  []   \n",
       "7                                                  []   \n",
       "8                                                  []   \n",
       "9                                                  []   \n",
       "10                                                 []   \n",
       "11                                                 []   \n",
       "12                                                 []   \n",
       "13                                                 []   \n",
       "14                                                 []   \n",
       "15             [B.E in Electronics and Communication]   \n",
       "16                                                 []   \n",
       "17               [Bachelor of Engineering (ECE)–BKIT]   \n",
       "\n",
       "                                               skills  \n",
       "0   [:, Application Software Tools : OrCAD Capture...  \n",
       "1   [digital, organization, voltage, orcad, coil, ...  \n",
       "2   [designation, circuit, probes, languages, debu...  \n",
       "3   [Testing of boards., Debugging of boards., Int...  \n",
       "4   [ Working experience in High Voltage Design :...  \n",
       "5   [Metering IC selection,  Relay,  AC-DC, Power ...  \n",
       "6   [:, Total Experience: [4 years & 10 months], m...  \n",
       "7   [:, Hands on experience in Capsense design, Go...  \n",
       "8   [& Abilities, Excellent communication skills a...  \n",
       "9   [intel, high speed interfaces, test procedures...  \n",
       "10  [Selection of System basic chip as per power a...  \n",
       "11  [known : English, Tamil&Telugu, Marital status...  \n",
       "12  [:: C,  Embedded C., Operating System: Windows...  \n",
       "13  [5+ Year of Circuit and PCB Design., Analog de...  \n",
       "14  [intel, suggestions, hindi, customer interacti...  \n",
       "15  [and Knowledge’s, Programming Skill : Embedded...  \n",
       "16  [: Feasibility Study,  Trim test,  Primary and...  \n",
       "17  [designation, languages, spacecraft, hindi, va...  "
      ]
     },
     "execution_count": 27,
     "metadata": {},
     "output_type": "execute_result"
    }
   ],
   "source": [
    "a"
   ]
  },
  {
   "cell_type": "code",
   "execution_count": 28,
   "metadata": {},
   "outputs": [],
   "source": [
    "a.to_csv(\"/home/anirudhpnbb/Downloads/resumes/output.csv\", index = False)"
   ]
  },
  {
   "cell_type": "code",
   "execution_count": null,
   "metadata": {},
   "outputs": [],
   "source": []
  },
  {
   "cell_type": "code",
   "execution_count": null,
   "metadata": {},
   "outputs": [],
   "source": []
  },
  {
   "cell_type": "code",
   "execution_count": null,
   "metadata": {},
   "outputs": [],
   "source": []
  },
  {
   "cell_type": "code",
   "execution_count": null,
   "metadata": {},
   "outputs": [],
   "source": []
  },
  {
   "cell_type": "code",
   "execution_count": null,
   "metadata": {},
   "outputs": [],
   "source": []
  },
  {
   "cell_type": "code",
   "execution_count": null,
   "metadata": {},
   "outputs": [],
   "source": []
  },
  {
   "cell_type": "code",
   "execution_count": null,
   "metadata": {},
   "outputs": [],
   "source": []
  },
  {
   "cell_type": "code",
   "execution_count": null,
   "metadata": {},
   "outputs": [],
   "source": []
  },
  {
   "cell_type": "code",
   "execution_count": null,
   "metadata": {},
   "outputs": [],
   "source": []
  },
  {
   "cell_type": "code",
   "execution_count": null,
   "metadata": {},
   "outputs": [],
   "source": []
  },
  {
   "cell_type": "code",
   "execution_count": null,
   "metadata": {},
   "outputs": [],
   "source": []
  },
  {
   "cell_type": "code",
   "execution_count": null,
   "metadata": {},
   "outputs": [],
   "source": []
  },
  {
   "cell_type": "code",
   "execution_count": null,
   "metadata": {},
   "outputs": [],
   "source": [
    "import pandas as pd"
   ]
  },
  {
   "cell_type": "code",
   "execution_count": null,
   "metadata": {},
   "outputs": [],
   "source": [
    "!pip3 install transformers==2.2.0"
   ]
  },
  {
   "cell_type": "code",
   "execution_count": null,
   "metadata": {},
   "outputs": [],
   "source": [
    "from summarizer import TransformerSummarizer"
   ]
  },
  {
   "cell_type": "code",
   "execution_count": null,
   "metadata": {},
   "outputs": [],
   "source": [
    "GPT2_model = TransformerSummarizer(transformer_type=\"GPT2\",transformer_model_key=\"gpt2-medium\")\n",
    "full = ''.join(GPT2_model(body, min_length=60))\n",
    "print(full)"
   ]
  },
  {
   "cell_type": "code",
   "execution_count": null,
   "metadata": {},
   "outputs": [],
   "source": [
    "from summarizer import Summarizer\n",
    "\n",
    "body = '''\n",
    "ARKANSAS OIL AND GAS COMMISSION 301 NATURAL RESOURCES DRIVE SUITE 102\n",
    "LITTLE ROCK, ARKANSAS 72205\n",
    "\n",
    "ORDER NO. 140-2013-05 June 12, 2013\n",
    "\n",
    "General Rule B-43 Well Spacing Area\n",
    "Van Buren County, Arkansas\n",
    "\n",
    "EXCEPTION TO LOCATION PROVISIONS\n",
    "\n",
    "After due notice and public hearing in Fort Smith, Arkansas, on May 29, 2013, the Arkansas Oil and Gas Commission, in order to prevent waste, carry out an orderly program of development and protect the correlative rights of each owner in the common source(s) of supply in this drilling unit, has found the following facts and issued the following Order.\n",
    "\n",
    "STATEMENT OF THE CASE\n",
    "\n",
    "BHP Billiton Petroleum (Fayetteville) LLC.,(the “Applicant”), is requesting an exception to the location provisions of General Rule B-43 for a well encroaching closer than 560 feet to another well that extends across or encroaches upon drilling unit boundaries located in Sections 8, 16, and 17, Township 10 North, Range 13 West, Van Buren County, Arkansas.\n",
    "\n",
    "FINDINGS OF FACT\n",
    "\n",
    "From the evidence introduced at the hearing, the Commission finds:\n",
    "\n",
    "    1. That BHP Billiton Petroleum (Fayetteville) LLC., (the “Applicant”), is requesting an exception to the location provisions of General Rule B-43 for a well encroaching closer than 560 feet to another well that extends across or encroaches upon drilling unit boundaries located in Sections 8, 16, and 17, Township 10 North, Range 13 West, Van Buren County, Arkansas.\n",
    "\n",
    "    2. That the Applicant has drilled its SG 10-13 1-17H8 well within Sections 8, 16, and 17, Township 10 North, Range 13 West, Van Buren County, Arkansas.\n",
    "\n",
    "    3. That the projected perforated lateral of the Applicant’s SG 10-13 1-17H8 well will be at one point 544 feet from the SG 10-13 2-17H8 well.\n",
    "\n",
    "    4. General Rule B-43 provides that “cross-unit” wells are to be located no closer than 560 feet apart, unless consent is obtained from all owners within all applicable units within the time frame established, or an exception is granted by the Commission. The Applicant requests that the Commission grant a location exception to enable it to produce the SG 10-13 1-17H8 well notwithstanding such encroachment described in Finding No. 3 above, as long as the well bore encroachment is no less than the footage specified in Finding No. 3 above, plus an additional twenty-five (25) foot variance for the encroachment.\n",
    "\n",
    "    5. That the granting of this application will be protective of the correlative rights of all interested parties and will prevent waste of the natural gas by permitting an efficient method of developing the resource within multiple drilling units.\n",
    "\n",
    "    6. That no objections were filed.\n",
    "\n",
    "    7. That in view of the evidence presented, it appears that the request should be granted without a reduction in the normal allowable.\n",
    "\n",
    "CONCLUSIONS OF LAW\n",
    "\n",
    "    1. That due notice of public hearing was given as required by law and that this Commission has jurisdiction over said parties and the matter herein considered.\n",
    "\n",
    "    2. That the lands described in Finding No. 1 above has been previously established as a drilling and production units by virtue of General Rule B-43.\n",
    "'''\n",
    "\n",
    "model = Summarizer()\n",
    "result = model(body, min_length=60)\n",
    "full = ''.join(result)\n",
    "print(full)"
   ]
  }
 ],
 "metadata": {
  "kernelspec": {
   "display_name": "Python 3",
   "language": "python",
   "name": "python3"
  },
  "language_info": {
   "codemirror_mode": {
    "name": "ipython",
    "version": 3
   },
   "file_extension": ".py",
   "mimetype": "text/x-python",
   "name": "python",
   "nbconvert_exporter": "python",
   "pygments_lexer": "ipython3",
   "version": "3.8.5"
  }
 },
 "nbformat": 4,
 "nbformat_minor": 4
}
